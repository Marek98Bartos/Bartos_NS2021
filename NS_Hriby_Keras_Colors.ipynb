{
 "cells": [
  {
   "cell_type": "code",
   "execution_count": 1,
   "metadata": {},
   "outputs": [],
   "source": [
    "import pandas as pd\n",
    "import numpy as np"
   ]
  },
  {
   "cell_type": "code",
   "execution_count": 2,
   "metadata": {},
   "outputs": [],
   "source": [
    "dataSet = pd.read_csv(\"mushrooms.csv\", header = 0)"
   ]
  },
  {
   "cell_type": "code",
   "execution_count": 3,
   "metadata": {},
   "outputs": [
    {
     "data": {
      "text/html": [
       "<div>\n",
       "<style scoped>\n",
       "    .dataframe tbody tr th:only-of-type {\n",
       "        vertical-align: middle;\n",
       "    }\n",
       "\n",
       "    .dataframe tbody tr th {\n",
       "        vertical-align: top;\n",
       "    }\n",
       "\n",
       "    .dataframe thead th {\n",
       "        text-align: right;\n",
       "    }\n",
       "</style>\n",
       "<table border=\"1\" class=\"dataframe\">\n",
       "  <thead>\n",
       "    <tr style=\"text-align: right;\">\n",
       "      <th></th>\n",
       "      <th>class</th>\n",
       "      <th>cap-shape</th>\n",
       "      <th>cap-surface</th>\n",
       "      <th>cap-color</th>\n",
       "      <th>bruises</th>\n",
       "      <th>odor</th>\n",
       "      <th>gill-attachment</th>\n",
       "      <th>gill-spacing</th>\n",
       "      <th>gill-size</th>\n",
       "      <th>gill-color</th>\n",
       "      <th>...</th>\n",
       "      <th>stalk-surface-below-ring</th>\n",
       "      <th>stalk-color-above-ring</th>\n",
       "      <th>stalk-color-below-ring</th>\n",
       "      <th>veil-type</th>\n",
       "      <th>veil-color</th>\n",
       "      <th>ring-number</th>\n",
       "      <th>ring-type</th>\n",
       "      <th>spore-print-color</th>\n",
       "      <th>population</th>\n",
       "      <th>habitat</th>\n",
       "    </tr>\n",
       "  </thead>\n",
       "  <tbody>\n",
       "    <tr>\n",
       "      <th>0</th>\n",
       "      <td>p</td>\n",
       "      <td>x</td>\n",
       "      <td>s</td>\n",
       "      <td>n</td>\n",
       "      <td>t</td>\n",
       "      <td>p</td>\n",
       "      <td>f</td>\n",
       "      <td>c</td>\n",
       "      <td>n</td>\n",
       "      <td>k</td>\n",
       "      <td>...</td>\n",
       "      <td>s</td>\n",
       "      <td>w</td>\n",
       "      <td>w</td>\n",
       "      <td>p</td>\n",
       "      <td>w</td>\n",
       "      <td>o</td>\n",
       "      <td>p</td>\n",
       "      <td>k</td>\n",
       "      <td>s</td>\n",
       "      <td>u</td>\n",
       "    </tr>\n",
       "    <tr>\n",
       "      <th>1</th>\n",
       "      <td>e</td>\n",
       "      <td>x</td>\n",
       "      <td>s</td>\n",
       "      <td>y</td>\n",
       "      <td>t</td>\n",
       "      <td>a</td>\n",
       "      <td>f</td>\n",
       "      <td>c</td>\n",
       "      <td>b</td>\n",
       "      <td>k</td>\n",
       "      <td>...</td>\n",
       "      <td>s</td>\n",
       "      <td>w</td>\n",
       "      <td>w</td>\n",
       "      <td>p</td>\n",
       "      <td>w</td>\n",
       "      <td>o</td>\n",
       "      <td>p</td>\n",
       "      <td>n</td>\n",
       "      <td>n</td>\n",
       "      <td>g</td>\n",
       "    </tr>\n",
       "    <tr>\n",
       "      <th>2</th>\n",
       "      <td>e</td>\n",
       "      <td>b</td>\n",
       "      <td>s</td>\n",
       "      <td>w</td>\n",
       "      <td>t</td>\n",
       "      <td>l</td>\n",
       "      <td>f</td>\n",
       "      <td>c</td>\n",
       "      <td>b</td>\n",
       "      <td>n</td>\n",
       "      <td>...</td>\n",
       "      <td>s</td>\n",
       "      <td>w</td>\n",
       "      <td>w</td>\n",
       "      <td>p</td>\n",
       "      <td>w</td>\n",
       "      <td>o</td>\n",
       "      <td>p</td>\n",
       "      <td>n</td>\n",
       "      <td>n</td>\n",
       "      <td>m</td>\n",
       "    </tr>\n",
       "    <tr>\n",
       "      <th>3</th>\n",
       "      <td>p</td>\n",
       "      <td>x</td>\n",
       "      <td>y</td>\n",
       "      <td>w</td>\n",
       "      <td>t</td>\n",
       "      <td>p</td>\n",
       "      <td>f</td>\n",
       "      <td>c</td>\n",
       "      <td>n</td>\n",
       "      <td>n</td>\n",
       "      <td>...</td>\n",
       "      <td>s</td>\n",
       "      <td>w</td>\n",
       "      <td>w</td>\n",
       "      <td>p</td>\n",
       "      <td>w</td>\n",
       "      <td>o</td>\n",
       "      <td>p</td>\n",
       "      <td>k</td>\n",
       "      <td>s</td>\n",
       "      <td>u</td>\n",
       "    </tr>\n",
       "    <tr>\n",
       "      <th>4</th>\n",
       "      <td>e</td>\n",
       "      <td>x</td>\n",
       "      <td>s</td>\n",
       "      <td>g</td>\n",
       "      <td>f</td>\n",
       "      <td>n</td>\n",
       "      <td>f</td>\n",
       "      <td>w</td>\n",
       "      <td>b</td>\n",
       "      <td>k</td>\n",
       "      <td>...</td>\n",
       "      <td>s</td>\n",
       "      <td>w</td>\n",
       "      <td>w</td>\n",
       "      <td>p</td>\n",
       "      <td>w</td>\n",
       "      <td>o</td>\n",
       "      <td>e</td>\n",
       "      <td>n</td>\n",
       "      <td>a</td>\n",
       "      <td>g</td>\n",
       "    </tr>\n",
       "    <tr>\n",
       "      <th>...</th>\n",
       "      <td>...</td>\n",
       "      <td>...</td>\n",
       "      <td>...</td>\n",
       "      <td>...</td>\n",
       "      <td>...</td>\n",
       "      <td>...</td>\n",
       "      <td>...</td>\n",
       "      <td>...</td>\n",
       "      <td>...</td>\n",
       "      <td>...</td>\n",
       "      <td>...</td>\n",
       "      <td>...</td>\n",
       "      <td>...</td>\n",
       "      <td>...</td>\n",
       "      <td>...</td>\n",
       "      <td>...</td>\n",
       "      <td>...</td>\n",
       "      <td>...</td>\n",
       "      <td>...</td>\n",
       "      <td>...</td>\n",
       "      <td>...</td>\n",
       "    </tr>\n",
       "    <tr>\n",
       "      <th>8119</th>\n",
       "      <td>e</td>\n",
       "      <td>k</td>\n",
       "      <td>s</td>\n",
       "      <td>n</td>\n",
       "      <td>f</td>\n",
       "      <td>n</td>\n",
       "      <td>a</td>\n",
       "      <td>c</td>\n",
       "      <td>b</td>\n",
       "      <td>y</td>\n",
       "      <td>...</td>\n",
       "      <td>s</td>\n",
       "      <td>o</td>\n",
       "      <td>o</td>\n",
       "      <td>p</td>\n",
       "      <td>o</td>\n",
       "      <td>o</td>\n",
       "      <td>p</td>\n",
       "      <td>b</td>\n",
       "      <td>c</td>\n",
       "      <td>l</td>\n",
       "    </tr>\n",
       "    <tr>\n",
       "      <th>8120</th>\n",
       "      <td>e</td>\n",
       "      <td>x</td>\n",
       "      <td>s</td>\n",
       "      <td>n</td>\n",
       "      <td>f</td>\n",
       "      <td>n</td>\n",
       "      <td>a</td>\n",
       "      <td>c</td>\n",
       "      <td>b</td>\n",
       "      <td>y</td>\n",
       "      <td>...</td>\n",
       "      <td>s</td>\n",
       "      <td>o</td>\n",
       "      <td>o</td>\n",
       "      <td>p</td>\n",
       "      <td>n</td>\n",
       "      <td>o</td>\n",
       "      <td>p</td>\n",
       "      <td>b</td>\n",
       "      <td>v</td>\n",
       "      <td>l</td>\n",
       "    </tr>\n",
       "    <tr>\n",
       "      <th>8121</th>\n",
       "      <td>e</td>\n",
       "      <td>f</td>\n",
       "      <td>s</td>\n",
       "      <td>n</td>\n",
       "      <td>f</td>\n",
       "      <td>n</td>\n",
       "      <td>a</td>\n",
       "      <td>c</td>\n",
       "      <td>b</td>\n",
       "      <td>n</td>\n",
       "      <td>...</td>\n",
       "      <td>s</td>\n",
       "      <td>o</td>\n",
       "      <td>o</td>\n",
       "      <td>p</td>\n",
       "      <td>o</td>\n",
       "      <td>o</td>\n",
       "      <td>p</td>\n",
       "      <td>b</td>\n",
       "      <td>c</td>\n",
       "      <td>l</td>\n",
       "    </tr>\n",
       "    <tr>\n",
       "      <th>8122</th>\n",
       "      <td>p</td>\n",
       "      <td>k</td>\n",
       "      <td>y</td>\n",
       "      <td>n</td>\n",
       "      <td>f</td>\n",
       "      <td>y</td>\n",
       "      <td>f</td>\n",
       "      <td>c</td>\n",
       "      <td>n</td>\n",
       "      <td>b</td>\n",
       "      <td>...</td>\n",
       "      <td>k</td>\n",
       "      <td>w</td>\n",
       "      <td>w</td>\n",
       "      <td>p</td>\n",
       "      <td>w</td>\n",
       "      <td>o</td>\n",
       "      <td>e</td>\n",
       "      <td>w</td>\n",
       "      <td>v</td>\n",
       "      <td>l</td>\n",
       "    </tr>\n",
       "    <tr>\n",
       "      <th>8123</th>\n",
       "      <td>e</td>\n",
       "      <td>x</td>\n",
       "      <td>s</td>\n",
       "      <td>n</td>\n",
       "      <td>f</td>\n",
       "      <td>n</td>\n",
       "      <td>a</td>\n",
       "      <td>c</td>\n",
       "      <td>b</td>\n",
       "      <td>y</td>\n",
       "      <td>...</td>\n",
       "      <td>s</td>\n",
       "      <td>o</td>\n",
       "      <td>o</td>\n",
       "      <td>p</td>\n",
       "      <td>o</td>\n",
       "      <td>o</td>\n",
       "      <td>p</td>\n",
       "      <td>o</td>\n",
       "      <td>c</td>\n",
       "      <td>l</td>\n",
       "    </tr>\n",
       "  </tbody>\n",
       "</table>\n",
       "<p>8124 rows × 23 columns</p>\n",
       "</div>"
      ],
      "text/plain": [
       "     class cap-shape cap-surface cap-color bruises odor gill-attachment  \\\n",
       "0        p         x           s         n       t    p               f   \n",
       "1        e         x           s         y       t    a               f   \n",
       "2        e         b           s         w       t    l               f   \n",
       "3        p         x           y         w       t    p               f   \n",
       "4        e         x           s         g       f    n               f   \n",
       "...    ...       ...         ...       ...     ...  ...             ...   \n",
       "8119     e         k           s         n       f    n               a   \n",
       "8120     e         x           s         n       f    n               a   \n",
       "8121     e         f           s         n       f    n               a   \n",
       "8122     p         k           y         n       f    y               f   \n",
       "8123     e         x           s         n       f    n               a   \n",
       "\n",
       "     gill-spacing gill-size gill-color  ... stalk-surface-below-ring  \\\n",
       "0               c         n          k  ...                        s   \n",
       "1               c         b          k  ...                        s   \n",
       "2               c         b          n  ...                        s   \n",
       "3               c         n          n  ...                        s   \n",
       "4               w         b          k  ...                        s   \n",
       "...           ...       ...        ...  ...                      ...   \n",
       "8119            c         b          y  ...                        s   \n",
       "8120            c         b          y  ...                        s   \n",
       "8121            c         b          n  ...                        s   \n",
       "8122            c         n          b  ...                        k   \n",
       "8123            c         b          y  ...                        s   \n",
       "\n",
       "     stalk-color-above-ring stalk-color-below-ring veil-type veil-color  \\\n",
       "0                         w                      w         p          w   \n",
       "1                         w                      w         p          w   \n",
       "2                         w                      w         p          w   \n",
       "3                         w                      w         p          w   \n",
       "4                         w                      w         p          w   \n",
       "...                     ...                    ...       ...        ...   \n",
       "8119                      o                      o         p          o   \n",
       "8120                      o                      o         p          n   \n",
       "8121                      o                      o         p          o   \n",
       "8122                      w                      w         p          w   \n",
       "8123                      o                      o         p          o   \n",
       "\n",
       "     ring-number ring-type spore-print-color population habitat  \n",
       "0              o         p                 k          s       u  \n",
       "1              o         p                 n          n       g  \n",
       "2              o         p                 n          n       m  \n",
       "3              o         p                 k          s       u  \n",
       "4              o         e                 n          a       g  \n",
       "...          ...       ...               ...        ...     ...  \n",
       "8119           o         p                 b          c       l  \n",
       "8120           o         p                 b          v       l  \n",
       "8121           o         p                 b          c       l  \n",
       "8122           o         e                 w          v       l  \n",
       "8123           o         p                 o          c       l  \n",
       "\n",
       "[8124 rows x 23 columns]"
      ]
     },
     "execution_count": 3,
     "metadata": {},
     "output_type": "execute_result"
    }
   ],
   "source": [
    "dataSet"
   ]
  },
  {
   "cell_type": "code",
   "execution_count": 4,
   "metadata": {},
   "outputs": [
    {
     "data": {
      "text/html": [
       "<div>\n",
       "<style scoped>\n",
       "    .dataframe tbody tr th:only-of-type {\n",
       "        vertical-align: middle;\n",
       "    }\n",
       "\n",
       "    .dataframe tbody tr th {\n",
       "        vertical-align: top;\n",
       "    }\n",
       "\n",
       "    .dataframe thead th {\n",
       "        text-align: right;\n",
       "    }\n",
       "</style>\n",
       "<table border=\"1\" class=\"dataframe\">\n",
       "  <thead>\n",
       "    <tr style=\"text-align: right;\">\n",
       "      <th></th>\n",
       "      <th>BLACK</th>\n",
       "      <th>BROWN</th>\n",
       "      <th>BUFF</th>\n",
       "      <th>CHOCOLATE</th>\n",
       "      <th>CINNAMON</th>\n",
       "      <th>GRAY</th>\n",
       "      <th>GREEN</th>\n",
       "      <th>ORANGE</th>\n",
       "      <th>PINK</th>\n",
       "      <th>PURPLE</th>\n",
       "      <th>RED</th>\n",
       "      <th>WHITE</th>\n",
       "      <th>YELLOW</th>\n",
       "    </tr>\n",
       "  </thead>\n",
       "  <tbody>\n",
       "    <tr>\n",
       "      <th>0</th>\n",
       "      <td>1</td>\n",
       "      <td>2</td>\n",
       "      <td>3</td>\n",
       "      <td>4</td>\n",
       "      <td>5</td>\n",
       "      <td>6</td>\n",
       "      <td>7</td>\n",
       "      <td>8</td>\n",
       "      <td>9</td>\n",
       "      <td>10</td>\n",
       "      <td>11</td>\n",
       "      <td>12</td>\n",
       "      <td>13</td>\n",
       "    </tr>\n",
       "  </tbody>\n",
       "</table>\n",
       "</div>"
      ],
      "text/plain": [
       "   BLACK  BROWN  BUFF  CHOCOLATE  CINNAMON  GRAY  GREEN  ORANGE  PINK  PURPLE  \\\n",
       "0      1      2     3          4         5     6      7       8     9      10   \n",
       "\n",
       "   RED  WHITE  YELLOW  \n",
       "0   11     12      13  "
      ]
     },
     "execution_count": 4,
     "metadata": {},
     "output_type": "execute_result"
    }
   ],
   "source": [
    "lst = {'BLACK':[1],\n",
    "       'BROWN':[2],\n",
    "       'BUFF':[3],\n",
    "       'CHOCOLATE':[4],\n",
    "       'CINNAMON':[5],\n",
    "       'GRAY':[6],\n",
    "       'GREEN':[7],\n",
    "       'ORANGE':[8],\n",
    "       'PINK':[9],\n",
    "       'PURPLE':[10],\n",
    "       'RED':[11],\n",
    "       'WHITE':[12],\n",
    "       'YELLOW':[13]\n",
    "      }\n",
    "farba = pd.DataFrame(lst)\n",
    "\n",
    "farba"
   ]
  },
  {
   "cell_type": "code",
   "execution_count": 5,
   "metadata": {},
   "outputs": [
    {
     "data": {
      "text/plain": [
       "array([ 2, 13, 12, ...,  2,  2,  2], dtype=int64)"
      ]
     },
     "execution_count": 5,
     "metadata": {},
     "output_type": "execute_result"
    }
   ],
   "source": [
    "# farba hlavicky hribu - Cap\n",
    "train1 = np.where(dataSet.iloc[:,3]=='n',farba.iloc[0]['BROWN'],( # brown\n",
    "            np.where(dataSet.iloc[:,3]=='b',farba.iloc[0]['BUFF'],( # buff\n",
    "                np.where(dataSet.iloc[:,3]=='c',farba.iloc[0]['CINNAMON'],( # cinnamon\n",
    "                    np.where(dataSet.iloc[:,3]=='g',farba.iloc[0]['GRAY'],( # gray\n",
    "                        np.where(dataSet.iloc[:,3]=='r',farba.iloc[0]['GREEN'],( # green\n",
    "                            np.where(dataSet.iloc[:,3]=='p',farba.iloc[0]['PINK'],( # pink\n",
    "                                np.where(dataSet.iloc[:,3]=='u',farba.iloc[0]['PURPLE'],( # purple\n",
    "                                    np.where(dataSet.iloc[:,3]=='e',farba.iloc[0]['RED'],( # red\n",
    "                                        np.where(dataSet.iloc[:,3]=='w',farba.iloc[0]['WHITE'],farba.iloc[0]['YELLOW']))))))))))))))))) # white,  yellow \n",
    "train1"
   ]
  },
  {
   "cell_type": "code",
   "execution_count": 6,
   "metadata": {},
   "outputs": [
    {
     "data": {
      "text/plain": [
       "array([ 1,  1,  2, ...,  2,  3, 13], dtype=int64)"
      ]
     },
     "execution_count": 6,
     "metadata": {},
     "output_type": "execute_result"
    }
   ],
   "source": [
    "# farba lupenov pod hlavickou hribu - Gill\n",
    "train2 = np.where(dataSet.iloc[:,9]=='k',farba.iloc[0]['BLACK'],( # black   \n",
    "            np.where(dataSet.iloc[:,9]=='n',farba.iloc[0]['BROWN'],( # brown \n",
    "                np.where(dataSet.iloc[:,9]=='b',farba.iloc[0]['BUFF'],( # buff  \n",
    "                    np.where(dataSet.iloc[:,9]=='h',farba.iloc[0]['CHOCOLATE'],( # chocolate\n",
    "                        np.where(dataSet.iloc[:,9]=='g',farba.iloc[0]['GRAY'],( # gray\n",
    "                            np.where(dataSet.iloc[:,9]=='r',farba.iloc[0]['GREEN'],( # green\n",
    "                                np.where(dataSet.iloc[:,9]=='o',farba.iloc[0]['ORANGE'],( # orange\n",
    "                                    np.where(dataSet.iloc[:,9]=='p',farba.iloc[0]['PINK'],( # pink\n",
    "                                        np.where(dataSet.iloc[:,9]=='u',farba.iloc[0]['PURPLE'],( # purple\n",
    "                                            np.where(dataSet.iloc[:,9]=='e',farba.iloc[0]['RED'],( # red\n",
    "                                                np.where(dataSet.iloc[:,9]=='w',farba.iloc[0]['WHITE'],farba.iloc[0]['YELLOW']))))))))))))))))))))) # white,  yellow\n",
    "train2 "
   ]
  },
  {
   "cell_type": "code",
   "execution_count": 7,
   "metadata": {},
   "outputs": [
    {
     "data": {
      "text/plain": [
       "array([8, 8, 8, ..., 5, 8, 5])"
      ]
     },
     "execution_count": 7,
     "metadata": {},
     "output_type": "execute_result"
    }
   ],
   "source": [
    "# farba stonky nad prstenom hriba - Stalk above ring\n",
    "train3 = np.where(dataSet.iloc[:,14]=='n',1,( # brown \n",
    "            np.where(dataSet.iloc[:,14]=='b',2,( # buff\n",
    "                np.where(dataSet.iloc[:,14]=='c',3,( # cinnamon\n",
    "                    np.where(dataSet.iloc[:,14]=='g',4,( # gray\n",
    "                        np.where(dataSet.iloc[:,14]=='o',5,( # orange\n",
    "                            np.where(dataSet.iloc[:,14]=='p',6,( # pink\n",
    "                                np.where(dataSet.iloc[:,14]=='e',7,( # red\n",
    "                                    np.where(dataSet.iloc[:,14]=='w',8,9))))))))))))))) # white, 9 = yellow\n",
    "train3"
   ]
  },
  {
   "cell_type": "code",
   "execution_count": 8,
   "metadata": {},
   "outputs": [
    {
     "data": {
      "text/plain": [
       "array([12, 12, 12, ...,  8, 12,  8], dtype=int64)"
      ]
     },
     "execution_count": 8,
     "metadata": {},
     "output_type": "execute_result"
    }
   ],
   "source": [
    "# farba stonky pod prstenom hriba - Stalk bellow ring\n",
    "train4 = np.where(dataSet.iloc[:,15]=='n',farba.iloc[0]['BROWN'],( # brown \n",
    "            np.where(dataSet.iloc[:,15]=='b',farba.iloc[0]['BUFF'],( # buff\n",
    "                np.where(dataSet.iloc[:,15]=='c',farba.iloc[0]['CINNAMON'],( # cinnamon\n",
    "                    np.where(dataSet.iloc[:,15]=='g',farba.iloc[0]['GRAY'],( # gray\n",
    "                        np.where(dataSet.iloc[:,15]=='o',farba.iloc[0]['ORANGE'],( # orange\n",
    "                            np.where(dataSet.iloc[:,15]=='p',farba.iloc[0]['PINK'],( # pink\n",
    "                                np.where(dataSet.iloc[:,15]=='e',farba.iloc[0]['RED'],( # red\n",
    "                                    np.where(dataSet.iloc[:,15]=='w',farba.iloc[0]['WHITE'],farba.iloc[0]['YELLOW']))))))))))))))) # white, 9 = yellow\n",
    "train4"
   ]
  },
  {
   "cell_type": "code",
   "execution_count": 9,
   "metadata": {},
   "outputs": [
    {
     "data": {
      "text/plain": [
       "array([12, 12, 12, ...,  8, 12,  8], dtype=int64)"
      ]
     },
     "execution_count": 9,
     "metadata": {},
     "output_type": "execute_result"
    }
   ],
   "source": [
    "# farba prstena hribu - Veil\n",
    "train5 = np.where(dataSet.iloc[:,17]=='n',farba.iloc[0]['BROWN'],( # brown  \n",
    "            np.where(dataSet.iloc[:,17]=='o',farba.iloc[0]['ORANGE'],( # orange \n",
    "                np.where(dataSet.iloc[:,17]=='w',farba.iloc[0]['WHITE'],farba.iloc[0]['YELLOW']))))) # white, 4 = yellow\n",
    "                   \n",
    "train5"
   ]
  },
  {
   "cell_type": "code",
   "execution_count": 10,
   "metadata": {},
   "outputs": [
    {
     "data": {
      "text/plain": [
       "array([ 1,  2,  2, ...,  3, 12,  8], dtype=int64)"
      ]
     },
     "execution_count": 10,
     "metadata": {},
     "output_type": "execute_result"
    }
   ],
   "source": [
    "# farba vytrusov hribu na papieri - Spore print\n",
    "train6 = np.where(dataSet.iloc[:,20]=='k',farba.iloc[0]['BLACK'],( # black   \n",
    "            np.where(dataSet.iloc[:,20]=='n',farba.iloc[0]['BROWN'],( # brown   \n",
    "                np.where(dataSet.iloc[:,20]=='b',farba.iloc[0]['BUFF'],( # buff   \n",
    "                    np.where(dataSet.iloc[:,20]=='h',farba.iloc[0]['CHOCOLATE'],( # chocolate  \n",
    "                        np.where(dataSet.iloc[:,20]=='r',farba.iloc[0]['GREEN'],( # green  \n",
    "                            np.where(dataSet.iloc[:,20]=='o',farba.iloc[0]['ORANGE'],( # orange   \n",
    "                                np.where(dataSet.iloc[:,20]=='u',farba.iloc[0]['PURPLE'],( # purple   \n",
    "                                    np.where(dataSet.iloc[:,20]=='w',farba.iloc[0]['WHITE'],farba.iloc[0]['YELLOW']))))))))))))))) # white, 9 = yellow \n",
    "                   \n",
    "train6"
   ]
  },
  {
   "cell_type": "code",
   "execution_count": 11,
   "metadata": {},
   "outputs": [
    {
     "data": {
      "text/plain": [
       "array([[ 2,  1,  8, 12, 12,  1],\n",
       "       [13,  1,  8, 12, 12,  2],\n",
       "       [12,  2,  8, 12, 12,  2],\n",
       "       ...,\n",
       "       [ 2,  2,  5,  8,  8,  3],\n",
       "       [ 2,  3,  8, 12, 12, 12],\n",
       "       [ 2, 13,  5,  8,  8,  8]], dtype=int64)"
      ]
     },
     "execution_count": 11,
     "metadata": {},
     "output_type": "execute_result"
    }
   ],
   "source": [
    "# Spojenie vsetkych mnozin\n",
    "trainX = np.stack((train1, train2, train3, train4, train5, train6), axis=1)\n",
    "trainX"
   ]
  },
  {
   "cell_type": "code",
   "execution_count": 12,
   "metadata": {},
   "outputs": [],
   "source": [
    "# kategoricke premenne, urcujeme ci je hrib jedlý alebo otrávený\n",
    "trainY = np.where((dataSet.iloc[:,0])=='e',1,0) # ak jedly, tak 1, ak jedovaty tak 0"
   ]
  },
  {
   "cell_type": "code",
   "execution_count": 13,
   "metadata": {},
   "outputs": [
    {
     "data": {
      "text/plain": [
       "array([0, 1, 1, ..., 1, 0, 1])"
      ]
     },
     "execution_count": 13,
     "metadata": {},
     "output_type": "execute_result"
    }
   ],
   "source": [
    "trainY"
   ]
  },
  {
   "cell_type": "code",
   "execution_count": 14,
   "metadata": {},
   "outputs": [],
   "source": [
    "from keras.utils import np_utils\n",
    "from keras.utils import to_categorical"
   ]
  },
  {
   "cell_type": "code",
   "execution_count": 15,
   "metadata": {},
   "outputs": [
    {
     "data": {
      "text/plain": [
       "array([[1., 0.],\n",
       "       [0., 1.],\n",
       "       [0., 1.],\n",
       "       ...,\n",
       "       [0., 1.],\n",
       "       [1., 0.],\n",
       "       [0., 1.]], dtype=float32)"
      ]
     },
     "execution_count": 15,
     "metadata": {},
     "output_type": "execute_result"
    }
   ],
   "source": [
    "# nastavenie kategorie vsetkym typom hribom \n",
    "kategorickaPremenna = np_utils.to_categorical(trainY)\n",
    "kategorickaPremenna"
   ]
  },
  {
   "cell_type": "code",
   "execution_count": 16,
   "metadata": {},
   "outputs": [],
   "source": [
    "# potrebujeme model a vrstvy pre vypocty neuronovych sieti\n",
    "from keras.models import Sequential # sekvencny model\n",
    "from keras.layers import Dense # vrstvy - vstupna, skryta, vystupna"
   ]
  },
  {
   "cell_type": "code",
   "execution_count": 127,
   "metadata": {},
   "outputs": [],
   "source": [
    "mojKerasModel = Sequential()"
   ]
  },
  {
   "cell_type": "code",
   "execution_count": 128,
   "metadata": {},
   "outputs": [
    {
     "name": "stdout",
     "output_type": "stream",
     "text": [
      "Epoch 1/10\n",
      "163/163 [==============================] - 0s 517us/step - loss: 0.6443 - accuracy: 0.6627\n",
      "Epoch 2/10\n",
      "163/163 [==============================] - 0s 512us/step - loss: 0.1076 - accuracy: 0.8572\n",
      "Epoch 3/10\n",
      "163/163 [==============================] - 0s 512us/step - loss: 0.0882 - accuracy: 0.8987\n",
      "Epoch 4/10\n",
      "163/163 [==============================] - 0s 512us/step - loss: 0.0749 - accuracy: 0.9252\n",
      "Epoch 5/10\n",
      "163/163 [==============================] - 0s 519us/step - loss: 0.0710 - accuracy: 0.9274\n",
      "Epoch 6/10\n",
      "163/163 [==============================] - 0s 531us/step - loss: 0.0712 - accuracy: 0.9247\n",
      "Epoch 7/10\n",
      "163/163 [==============================] - 0s 519us/step - loss: 0.0640 - accuracy: 0.9321\n",
      "Epoch 8/10\n",
      "163/163 [==============================] - 0s 531us/step - loss: 0.0662 - accuracy: 0.9280\n",
      "Epoch 9/10\n",
      "163/163 [==============================] - 0s 512us/step - loss: 0.0634 - accuracy: 0.9308\n",
      "Epoch 10/10\n",
      "163/163 [==============================] - 0s 518us/step - loss: 0.0585 - accuracy: 0.9337\n"
     ]
    },
    {
     "data": {
      "text/plain": [
       "<tensorflow.python.keras.callbacks.History at 0x2d27a7ed100>"
      ]
     },
     "execution_count": 128,
     "metadata": {},
     "output_type": "execute_result"
    }
   ],
   "source": [
    "# vstupna vrstva bude s 30 neuronmi\n",
    "# input_dim pocet dimenzii (vrstiev)\n",
    "# 23 vstupuju\n",
    "mojKerasModel.add(Dense(100, input_dim = 6, activation='tanh'))\n",
    "\n",
    "# skryta vrstva\n",
    "mojKerasModel.add(Dense(30, activation='tanh'))\n",
    "\n",
    "# vystupna vrstva ma dve neurony lebo kategoricka premenna ma dve hodnoty \n",
    "mojKerasModel.add(Dense(2))\n",
    "# model je pripraveny treba ho natrenovat\n",
    "\n",
    "# pred trenovanim ho treba skompilovat\n",
    "# param strata - loss napr. metoda najmensich stvorcov\n",
    "# optimizer - na zaklade coho sa ma optimalizovat (adam byva naj)\n",
    "# metrics - pridanie presnosti k vysledku\n",
    "mojKerasModel.compile(loss='mean_squared_error', optimizer='adam', metrics=['accuracy'])\n",
    "\n",
    "\n",
    "# trenovanie parametrom trainX\n",
    "# upravovat activation\n",
    "mojKerasModel.fit(trainX, kategorickaPremenna, epochs=10, batch_size=50)"
   ]
  },
  {
   "cell_type": "markdown",
   "metadata": {},
   "source": [
    "optimiser sgd - loss: 0.1753 - accuracy: 0.8087"
   ]
  },
  {
   "cell_type": "code",
   "execution_count": 162,
   "metadata": {},
   "outputs": [],
   "source": [
    "test_y = trainY[0:100]\n",
    "\n",
    "test_x = trainX[0:100]"
   ]
  },
  {
   "cell_type": "code",
   "execution_count": 163,
   "metadata": {},
   "outputs": [
    {
     "name": "stdout",
     "output_type": "stream",
     "text": [
      "4/4 [==============================] - 0s 667us/step - loss: 0.1395 - accuracy: 0.8300\n",
      "\n",
      "Accuracy: 83.00%\n"
     ]
    }
   ],
   "source": [
    "encoding_test_y = np_utils.to_categorical(test_y)\n",
    "\n",
    "scores = mojKerasModel.evaluate(test_x, encoding_test_y)\n",
    "print(\"\\nAccuracy: %.2f%%\" % (scores[1]*100))"
   ]
  },
  {
   "cell_type": "code",
   "execution_count": 164,
   "metadata": {},
   "outputs": [
    {
     "data": {
      "text/plain": [
       "array([[0.36713922, 0.60136366]], dtype=float32)"
      ]
     },
     "execution_count": 164,
     "metadata": {},
     "output_type": "execute_result"
    }
   ],
   "source": [
    "# hlavicka, lupene pod hlavickou, stonka nad p, stonka pod p, prsten, vytrusy\n",
    "\n",
    "# vzorka = np.array([[2,1, 8,12,12, 1]]) # [0.21112321, 0.91422325] P\n",
    "# vzorka = np.array([[13,  1,  8, 12, 12,  2]]) # [0.17892213, 0.84764916] E\n",
    "\n",
    "# vzorka = np.array([[2,3,8,12,12,12]]) # [0.9731052 , 0.04955696] P\n",
    "# vzorka = np.array([[2, 13,  5,  8,  8,  8]]) # [0.1793459, 1.0192788] E\n",
    "vzorka = np.array([[2,  2,  5,  8,  8,  3]]) # [0.36713922, 0.60136366] E\n",
    "\n",
    "predictions = mojKerasModel.predict(vzorka)\n",
    "predictions"
   ]
  },
  {
   "cell_type": "code",
   "execution_count": 141,
   "metadata": {},
   "outputs": [
    {
     "data": {
      "text/html": [
       "<div>\n",
       "<style scoped>\n",
       "    .dataframe tbody tr th:only-of-type {\n",
       "        vertical-align: middle;\n",
       "    }\n",
       "\n",
       "    .dataframe tbody tr th {\n",
       "        vertical-align: top;\n",
       "    }\n",
       "\n",
       "    .dataframe thead th {\n",
       "        text-align: right;\n",
       "    }\n",
       "</style>\n",
       "<table border=\"1\" class=\"dataframe\">\n",
       "  <thead>\n",
       "    <tr style=\"text-align: right;\">\n",
       "      <th></th>\n",
       "      <th>BLACK</th>\n",
       "      <th>BROWN</th>\n",
       "      <th>BUFF</th>\n",
       "      <th>CHOCOLATE</th>\n",
       "      <th>CINNAMON</th>\n",
       "      <th>GRAY</th>\n",
       "      <th>GREEN</th>\n",
       "      <th>ORANGE</th>\n",
       "      <th>PINK</th>\n",
       "      <th>PURPLE</th>\n",
       "      <th>RED</th>\n",
       "      <th>WHITE</th>\n",
       "      <th>YELLOW</th>\n",
       "    </tr>\n",
       "  </thead>\n",
       "  <tbody>\n",
       "    <tr>\n",
       "      <th>0</th>\n",
       "      <td>1</td>\n",
       "      <td>2</td>\n",
       "      <td>3</td>\n",
       "      <td>4</td>\n",
       "      <td>5</td>\n",
       "      <td>6</td>\n",
       "      <td>7</td>\n",
       "      <td>8</td>\n",
       "      <td>9</td>\n",
       "      <td>10</td>\n",
       "      <td>11</td>\n",
       "      <td>12</td>\n",
       "      <td>13</td>\n",
       "    </tr>\n",
       "  </tbody>\n",
       "</table>\n",
       "</div>"
      ],
      "text/plain": [
       "   BLACK  BROWN  BUFF  CHOCOLATE  CINNAMON  GRAY  GREEN  ORANGE  PINK  PURPLE  \\\n",
       "0      1      2     3          4         5     6      7       8     9      10   \n",
       "\n",
       "   RED  WHITE  YELLOW  \n",
       "0   11     12      13  "
      ]
     },
     "execution_count": 141,
     "metadata": {},
     "output_type": "execute_result"
    }
   ],
   "source": [
    "farba"
   ]
  },
  {
   "cell_type": "code",
   "execution_count": 148,
   "metadata": {},
   "outputs": [
    {
     "data": {
      "text/plain": [
       "array([[ 2,  1,  8, 12, 12,  1],\n",
       "       [13,  1,  8, 12, 12,  2],\n",
       "       [12,  2,  8, 12, 12,  2],\n",
       "       ...,\n",
       "       [ 2,  2,  5,  8,  8,  3],\n",
       "       [ 2,  3,  8, 12, 12, 12],\n",
       "       [ 2, 13,  5,  8,  8,  8]], dtype=int64)"
      ]
     },
     "execution_count": 148,
     "metadata": {},
     "output_type": "execute_result"
    }
   ],
   "source": [
    "trainX"
   ]
  },
  {
   "cell_type": "code",
   "execution_count": null,
   "metadata": {},
   "outputs": [],
   "source": []
  }
 ],
 "metadata": {
  "kernelspec": {
   "display_name": "Python 3",
   "language": "python",
   "name": "python3"
  },
  "language_info": {
   "codemirror_mode": {
    "name": "ipython",
    "version": 3
   },
   "file_extension": ".py",
   "mimetype": "text/x-python",
   "name": "python",
   "nbconvert_exporter": "python",
   "pygments_lexer": "ipython3",
   "version": "3.8.5"
  }
 },
 "nbformat": 4,
 "nbformat_minor": 4
}
