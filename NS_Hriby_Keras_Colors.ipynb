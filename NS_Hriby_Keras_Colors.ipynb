{
 "cells": [
  {
   "cell_type": "code",
   "execution_count": 1,
   "metadata": {},
   "outputs": [],
   "source": [
    "import pandas as pd\n",
    "import numpy as np\n",
    "import seaborn as sns"
   ]
  },
  {
   "cell_type": "code",
   "execution_count": 2,
   "metadata": {},
   "outputs": [],
   "source": [
    "# nacitanie dat \n",
    "dataSet = pd.read_csv(\"mushrooms.csv\", header = 0)"
   ]
  },
  {
   "cell_type": "code",
   "execution_count": 3,
   "metadata": {},
   "outputs": [
    {
     "data": {
      "text/html": [
       "<div>\n",
       "<style scoped>\n",
       "    .dataframe tbody tr th:only-of-type {\n",
       "        vertical-align: middle;\n",
       "    }\n",
       "\n",
       "    .dataframe tbody tr th {\n",
       "        vertical-align: top;\n",
       "    }\n",
       "\n",
       "    .dataframe thead th {\n",
       "        text-align: right;\n",
       "    }\n",
       "</style>\n",
       "<table border=\"1\" class=\"dataframe\">\n",
       "  <thead>\n",
       "    <tr style=\"text-align: right;\">\n",
       "      <th></th>\n",
       "      <th>class</th>\n",
       "      <th>cap-shape</th>\n",
       "      <th>cap-surface</th>\n",
       "      <th>cap-color</th>\n",
       "      <th>bruises</th>\n",
       "      <th>odor</th>\n",
       "      <th>gill-attachment</th>\n",
       "      <th>gill-spacing</th>\n",
       "      <th>gill-size</th>\n",
       "      <th>gill-color</th>\n",
       "      <th>...</th>\n",
       "      <th>stalk-surface-below-ring</th>\n",
       "      <th>stalk-color-above-ring</th>\n",
       "      <th>stalk-color-below-ring</th>\n",
       "      <th>veil-type</th>\n",
       "      <th>veil-color</th>\n",
       "      <th>ring-number</th>\n",
       "      <th>ring-type</th>\n",
       "      <th>spore-print-color</th>\n",
       "      <th>population</th>\n",
       "      <th>habitat</th>\n",
       "    </tr>\n",
       "  </thead>\n",
       "  <tbody>\n",
       "    <tr>\n",
       "      <th>0</th>\n",
       "      <td>p</td>\n",
       "      <td>x</td>\n",
       "      <td>s</td>\n",
       "      <td>n</td>\n",
       "      <td>t</td>\n",
       "      <td>p</td>\n",
       "      <td>f</td>\n",
       "      <td>c</td>\n",
       "      <td>n</td>\n",
       "      <td>k</td>\n",
       "      <td>...</td>\n",
       "      <td>s</td>\n",
       "      <td>w</td>\n",
       "      <td>w</td>\n",
       "      <td>p</td>\n",
       "      <td>w</td>\n",
       "      <td>o</td>\n",
       "      <td>p</td>\n",
       "      <td>k</td>\n",
       "      <td>s</td>\n",
       "      <td>u</td>\n",
       "    </tr>\n",
       "    <tr>\n",
       "      <th>1</th>\n",
       "      <td>e</td>\n",
       "      <td>x</td>\n",
       "      <td>s</td>\n",
       "      <td>y</td>\n",
       "      <td>t</td>\n",
       "      <td>a</td>\n",
       "      <td>f</td>\n",
       "      <td>c</td>\n",
       "      <td>b</td>\n",
       "      <td>k</td>\n",
       "      <td>...</td>\n",
       "      <td>s</td>\n",
       "      <td>w</td>\n",
       "      <td>w</td>\n",
       "      <td>p</td>\n",
       "      <td>w</td>\n",
       "      <td>o</td>\n",
       "      <td>p</td>\n",
       "      <td>n</td>\n",
       "      <td>n</td>\n",
       "      <td>g</td>\n",
       "    </tr>\n",
       "    <tr>\n",
       "      <th>2</th>\n",
       "      <td>e</td>\n",
       "      <td>b</td>\n",
       "      <td>s</td>\n",
       "      <td>w</td>\n",
       "      <td>t</td>\n",
       "      <td>l</td>\n",
       "      <td>f</td>\n",
       "      <td>c</td>\n",
       "      <td>b</td>\n",
       "      <td>n</td>\n",
       "      <td>...</td>\n",
       "      <td>s</td>\n",
       "      <td>w</td>\n",
       "      <td>w</td>\n",
       "      <td>p</td>\n",
       "      <td>w</td>\n",
       "      <td>o</td>\n",
       "      <td>p</td>\n",
       "      <td>n</td>\n",
       "      <td>n</td>\n",
       "      <td>m</td>\n",
       "    </tr>\n",
       "    <tr>\n",
       "      <th>3</th>\n",
       "      <td>p</td>\n",
       "      <td>x</td>\n",
       "      <td>y</td>\n",
       "      <td>w</td>\n",
       "      <td>t</td>\n",
       "      <td>p</td>\n",
       "      <td>f</td>\n",
       "      <td>c</td>\n",
       "      <td>n</td>\n",
       "      <td>n</td>\n",
       "      <td>...</td>\n",
       "      <td>s</td>\n",
       "      <td>w</td>\n",
       "      <td>w</td>\n",
       "      <td>p</td>\n",
       "      <td>w</td>\n",
       "      <td>o</td>\n",
       "      <td>p</td>\n",
       "      <td>k</td>\n",
       "      <td>s</td>\n",
       "      <td>u</td>\n",
       "    </tr>\n",
       "    <tr>\n",
       "      <th>4</th>\n",
       "      <td>e</td>\n",
       "      <td>x</td>\n",
       "      <td>s</td>\n",
       "      <td>g</td>\n",
       "      <td>f</td>\n",
       "      <td>n</td>\n",
       "      <td>f</td>\n",
       "      <td>w</td>\n",
       "      <td>b</td>\n",
       "      <td>k</td>\n",
       "      <td>...</td>\n",
       "      <td>s</td>\n",
       "      <td>w</td>\n",
       "      <td>w</td>\n",
       "      <td>p</td>\n",
       "      <td>w</td>\n",
       "      <td>o</td>\n",
       "      <td>e</td>\n",
       "      <td>n</td>\n",
       "      <td>a</td>\n",
       "      <td>g</td>\n",
       "    </tr>\n",
       "    <tr>\n",
       "      <th>...</th>\n",
       "      <td>...</td>\n",
       "      <td>...</td>\n",
       "      <td>...</td>\n",
       "      <td>...</td>\n",
       "      <td>...</td>\n",
       "      <td>...</td>\n",
       "      <td>...</td>\n",
       "      <td>...</td>\n",
       "      <td>...</td>\n",
       "      <td>...</td>\n",
       "      <td>...</td>\n",
       "      <td>...</td>\n",
       "      <td>...</td>\n",
       "      <td>...</td>\n",
       "      <td>...</td>\n",
       "      <td>...</td>\n",
       "      <td>...</td>\n",
       "      <td>...</td>\n",
       "      <td>...</td>\n",
       "      <td>...</td>\n",
       "      <td>...</td>\n",
       "    </tr>\n",
       "    <tr>\n",
       "      <th>8119</th>\n",
       "      <td>e</td>\n",
       "      <td>k</td>\n",
       "      <td>s</td>\n",
       "      <td>n</td>\n",
       "      <td>f</td>\n",
       "      <td>n</td>\n",
       "      <td>a</td>\n",
       "      <td>c</td>\n",
       "      <td>b</td>\n",
       "      <td>y</td>\n",
       "      <td>...</td>\n",
       "      <td>s</td>\n",
       "      <td>o</td>\n",
       "      <td>o</td>\n",
       "      <td>p</td>\n",
       "      <td>o</td>\n",
       "      <td>o</td>\n",
       "      <td>p</td>\n",
       "      <td>b</td>\n",
       "      <td>c</td>\n",
       "      <td>l</td>\n",
       "    </tr>\n",
       "    <tr>\n",
       "      <th>8120</th>\n",
       "      <td>e</td>\n",
       "      <td>x</td>\n",
       "      <td>s</td>\n",
       "      <td>n</td>\n",
       "      <td>f</td>\n",
       "      <td>n</td>\n",
       "      <td>a</td>\n",
       "      <td>c</td>\n",
       "      <td>b</td>\n",
       "      <td>y</td>\n",
       "      <td>...</td>\n",
       "      <td>s</td>\n",
       "      <td>o</td>\n",
       "      <td>o</td>\n",
       "      <td>p</td>\n",
       "      <td>n</td>\n",
       "      <td>o</td>\n",
       "      <td>p</td>\n",
       "      <td>b</td>\n",
       "      <td>v</td>\n",
       "      <td>l</td>\n",
       "    </tr>\n",
       "    <tr>\n",
       "      <th>8121</th>\n",
       "      <td>e</td>\n",
       "      <td>f</td>\n",
       "      <td>s</td>\n",
       "      <td>n</td>\n",
       "      <td>f</td>\n",
       "      <td>n</td>\n",
       "      <td>a</td>\n",
       "      <td>c</td>\n",
       "      <td>b</td>\n",
       "      <td>n</td>\n",
       "      <td>...</td>\n",
       "      <td>s</td>\n",
       "      <td>o</td>\n",
       "      <td>o</td>\n",
       "      <td>p</td>\n",
       "      <td>o</td>\n",
       "      <td>o</td>\n",
       "      <td>p</td>\n",
       "      <td>b</td>\n",
       "      <td>c</td>\n",
       "      <td>l</td>\n",
       "    </tr>\n",
       "    <tr>\n",
       "      <th>8122</th>\n",
       "      <td>p</td>\n",
       "      <td>k</td>\n",
       "      <td>y</td>\n",
       "      <td>n</td>\n",
       "      <td>f</td>\n",
       "      <td>y</td>\n",
       "      <td>f</td>\n",
       "      <td>c</td>\n",
       "      <td>n</td>\n",
       "      <td>b</td>\n",
       "      <td>...</td>\n",
       "      <td>k</td>\n",
       "      <td>w</td>\n",
       "      <td>w</td>\n",
       "      <td>p</td>\n",
       "      <td>w</td>\n",
       "      <td>o</td>\n",
       "      <td>e</td>\n",
       "      <td>w</td>\n",
       "      <td>v</td>\n",
       "      <td>l</td>\n",
       "    </tr>\n",
       "    <tr>\n",
       "      <th>8123</th>\n",
       "      <td>e</td>\n",
       "      <td>x</td>\n",
       "      <td>s</td>\n",
       "      <td>n</td>\n",
       "      <td>f</td>\n",
       "      <td>n</td>\n",
       "      <td>a</td>\n",
       "      <td>c</td>\n",
       "      <td>b</td>\n",
       "      <td>y</td>\n",
       "      <td>...</td>\n",
       "      <td>s</td>\n",
       "      <td>o</td>\n",
       "      <td>o</td>\n",
       "      <td>p</td>\n",
       "      <td>o</td>\n",
       "      <td>o</td>\n",
       "      <td>p</td>\n",
       "      <td>o</td>\n",
       "      <td>c</td>\n",
       "      <td>l</td>\n",
       "    </tr>\n",
       "  </tbody>\n",
       "</table>\n",
       "<p>8124 rows × 23 columns</p>\n",
       "</div>"
      ],
      "text/plain": [
       "     class cap-shape cap-surface cap-color bruises odor gill-attachment  \\\n",
       "0        p         x           s         n       t    p               f   \n",
       "1        e         x           s         y       t    a               f   \n",
       "2        e         b           s         w       t    l               f   \n",
       "3        p         x           y         w       t    p               f   \n",
       "4        e         x           s         g       f    n               f   \n",
       "...    ...       ...         ...       ...     ...  ...             ...   \n",
       "8119     e         k           s         n       f    n               a   \n",
       "8120     e         x           s         n       f    n               a   \n",
       "8121     e         f           s         n       f    n               a   \n",
       "8122     p         k           y         n       f    y               f   \n",
       "8123     e         x           s         n       f    n               a   \n",
       "\n",
       "     gill-spacing gill-size gill-color  ... stalk-surface-below-ring  \\\n",
       "0               c         n          k  ...                        s   \n",
       "1               c         b          k  ...                        s   \n",
       "2               c         b          n  ...                        s   \n",
       "3               c         n          n  ...                        s   \n",
       "4               w         b          k  ...                        s   \n",
       "...           ...       ...        ...  ...                      ...   \n",
       "8119            c         b          y  ...                        s   \n",
       "8120            c         b          y  ...                        s   \n",
       "8121            c         b          n  ...                        s   \n",
       "8122            c         n          b  ...                        k   \n",
       "8123            c         b          y  ...                        s   \n",
       "\n",
       "     stalk-color-above-ring stalk-color-below-ring veil-type veil-color  \\\n",
       "0                         w                      w         p          w   \n",
       "1                         w                      w         p          w   \n",
       "2                         w                      w         p          w   \n",
       "3                         w                      w         p          w   \n",
       "4                         w                      w         p          w   \n",
       "...                     ...                    ...       ...        ...   \n",
       "8119                      o                      o         p          o   \n",
       "8120                      o                      o         p          n   \n",
       "8121                      o                      o         p          o   \n",
       "8122                      w                      w         p          w   \n",
       "8123                      o                      o         p          o   \n",
       "\n",
       "     ring-number ring-type spore-print-color population habitat  \n",
       "0              o         p                 k          s       u  \n",
       "1              o         p                 n          n       g  \n",
       "2              o         p                 n          n       m  \n",
       "3              o         p                 k          s       u  \n",
       "4              o         e                 n          a       g  \n",
       "...          ...       ...               ...        ...     ...  \n",
       "8119           o         p                 b          c       l  \n",
       "8120           o         p                 b          v       l  \n",
       "8121           o         p                 b          c       l  \n",
       "8122           o         e                 w          v       l  \n",
       "8123           o         p                 o          c       l  \n",
       "\n",
       "[8124 rows x 23 columns]"
      ]
     },
     "execution_count": 3,
     "metadata": {},
     "output_type": "execute_result"
    }
   ],
   "source": [
    "# vizualizacia dat\n",
    "dataSet"
   ]
  },
  {
   "cell_type": "code",
   "execution_count": 4,
   "metadata": {},
   "outputs": [
    {
     "data": {
      "text/html": [
       "<div>\n",
       "<style scoped>\n",
       "    .dataframe tbody tr th:only-of-type {\n",
       "        vertical-align: middle;\n",
       "    }\n",
       "\n",
       "    .dataframe tbody tr th {\n",
       "        vertical-align: top;\n",
       "    }\n",
       "\n",
       "    .dataframe thead th {\n",
       "        text-align: right;\n",
       "    }\n",
       "</style>\n",
       "<table border=\"1\" class=\"dataframe\">\n",
       "  <thead>\n",
       "    <tr style=\"text-align: right;\">\n",
       "      <th></th>\n",
       "      <th>BLACK</th>\n",
       "      <th>BROWN</th>\n",
       "      <th>BUFF</th>\n",
       "      <th>CHOCOLATE</th>\n",
       "      <th>CINNAMON</th>\n",
       "      <th>GRAY</th>\n",
       "      <th>GREEN</th>\n",
       "      <th>ORANGE</th>\n",
       "      <th>PINK</th>\n",
       "      <th>PURPLE</th>\n",
       "      <th>RED</th>\n",
       "      <th>WHITE</th>\n",
       "      <th>YELLOW</th>\n",
       "    </tr>\n",
       "  </thead>\n",
       "  <tbody>\n",
       "    <tr>\n",
       "      <th>0</th>\n",
       "      <td>1</td>\n",
       "      <td>2</td>\n",
       "      <td>3</td>\n",
       "      <td>4</td>\n",
       "      <td>5</td>\n",
       "      <td>6</td>\n",
       "      <td>7</td>\n",
       "      <td>8</td>\n",
       "      <td>9</td>\n",
       "      <td>10</td>\n",
       "      <td>11</td>\n",
       "      <td>12</td>\n",
       "      <td>13</td>\n",
       "    </tr>\n",
       "  </tbody>\n",
       "</table>\n",
       "</div>"
      ],
      "text/plain": [
       "   BLACK  BROWN  BUFF  CHOCOLATE  CINNAMON  GRAY  GREEN  ORANGE  PINK  PURPLE  \\\n",
       "0      1      2     3          4         5     6      7       8     9      10   \n",
       "\n",
       "   RED  WHITE  YELLOW  \n",
       "0   11     12      13  "
      ]
     },
     "execution_count": 4,
     "metadata": {},
     "output_type": "execute_result"
    }
   ],
   "source": [
    "# Vytvorenie tabulky pre vyuzitie informacie o farbe rôznych častiach hríbu\n",
    "lst = {'BLACK':[1],\n",
    "       'BROWN':[2],\n",
    "       'BUFF':[3],\n",
    "       'CHOCOLATE':[4],\n",
    "       'CINNAMON':[5],\n",
    "       'GRAY':[6],\n",
    "       'GREEN':[7],\n",
    "       'ORANGE':[8],\n",
    "       'PINK':[9],\n",
    "       'PURPLE':[10],\n",
    "       'RED':[11],\n",
    "       'WHITE':[12],\n",
    "       'YELLOW':[13]\n",
    "      }\n",
    "farba = pd.DataFrame(lst)\n",
    "\n",
    "farba"
   ]
  },
  {
   "cell_type": "code",
   "execution_count": 5,
   "metadata": {},
   "outputs": [
    {
     "data": {
      "text/plain": [
       "array([ 2, 13, 12, ...,  2,  2,  2], dtype=int64)"
      ]
     },
     "execution_count": 5,
     "metadata": {},
     "output_type": "execute_result"
    }
   ],
   "source": [
    "# farba hlavicky hribu - Cap\n",
    "train1 = np.where(dataSet.iloc[:,3]=='n',farba.iloc[0]['BROWN'],( # brown\n",
    "            np.where(dataSet.iloc[:,3]=='b',farba.iloc[0]['BUFF'],( # buff\n",
    "                np.where(dataSet.iloc[:,3]=='c',farba.iloc[0]['CINNAMON'],( # cinnamon\n",
    "                    np.where(dataSet.iloc[:,3]=='g',farba.iloc[0]['GRAY'],( # gray\n",
    "                        np.where(dataSet.iloc[:,3]=='r',farba.iloc[0]['GREEN'],( # green\n",
    "                            np.where(dataSet.iloc[:,3]=='p',farba.iloc[0]['PINK'],( # pink\n",
    "                                np.where(dataSet.iloc[:,3]=='u',farba.iloc[0]['PURPLE'],( # purple\n",
    "                                    np.where(dataSet.iloc[:,3]=='e',farba.iloc[0]['RED'],( # red\n",
    "                                        np.where(dataSet.iloc[:,3]=='w',farba.iloc[0]['WHITE'],farba.iloc[0]['YELLOW']))))))))))))))))) # white,  yellow \n",
    "train1"
   ]
  },
  {
   "cell_type": "code",
   "execution_count": 6,
   "metadata": {},
   "outputs": [
    {
     "data": {
      "text/plain": [
       "array([ 1,  1,  2, ...,  2,  3, 13], dtype=int64)"
      ]
     },
     "execution_count": 6,
     "metadata": {},
     "output_type": "execute_result"
    }
   ],
   "source": [
    "# farba lupenov pod hlavickou hribu - Gill\n",
    "train2 = np.where(dataSet.iloc[:,9]=='k',farba.iloc[0]['BLACK'],( # black   \n",
    "            np.where(dataSet.iloc[:,9]=='n',farba.iloc[0]['BROWN'],( # brown \n",
    "                np.where(dataSet.iloc[:,9]=='b',farba.iloc[0]['BUFF'],( # buff  \n",
    "                    np.where(dataSet.iloc[:,9]=='h',farba.iloc[0]['CHOCOLATE'],( # chocolate\n",
    "                        np.where(dataSet.iloc[:,9]=='g',farba.iloc[0]['GRAY'],( # gray\n",
    "                            np.where(dataSet.iloc[:,9]=='r',farba.iloc[0]['GREEN'],( # green\n",
    "                                np.where(dataSet.iloc[:,9]=='o',farba.iloc[0]['ORANGE'],( # orange\n",
    "                                    np.where(dataSet.iloc[:,9]=='p',farba.iloc[0]['PINK'],( # pink\n",
    "                                        np.where(dataSet.iloc[:,9]=='u',farba.iloc[0]['PURPLE'],( # purple\n",
    "                                            np.where(dataSet.iloc[:,9]=='e',farba.iloc[0]['RED'],( # red\n",
    "                                                np.where(dataSet.iloc[:,9]=='w',farba.iloc[0]['WHITE'],farba.iloc[0]['YELLOW']))))))))))))))))))))) # white,  yellow\n",
    "train2 "
   ]
  },
  {
   "cell_type": "code",
   "execution_count": 7,
   "metadata": {},
   "outputs": [
    {
     "data": {
      "text/plain": [
       "array([8, 8, 8, ..., 5, 8, 5])"
      ]
     },
     "execution_count": 7,
     "metadata": {},
     "output_type": "execute_result"
    }
   ],
   "source": [
    "# farba stonky nad prstenom hriba - Stalk above ring\n",
    "train3 = np.where(dataSet.iloc[:,14]=='n',1,( # brown \n",
    "            np.where(dataSet.iloc[:,14]=='b',2,( # buff\n",
    "                np.where(dataSet.iloc[:,14]=='c',3,( # cinnamon\n",
    "                    np.where(dataSet.iloc[:,14]=='g',4,( # gray\n",
    "                        np.where(dataSet.iloc[:,14]=='o',5,( # orange\n",
    "                            np.where(dataSet.iloc[:,14]=='p',6,( # pink\n",
    "                                np.where(dataSet.iloc[:,14]=='e',7,( # red\n",
    "                                    np.where(dataSet.iloc[:,14]=='w',8,9))))))))))))))) # white, 9 = yellow\n",
    "train3"
   ]
  },
  {
   "cell_type": "code",
   "execution_count": 8,
   "metadata": {},
   "outputs": [
    {
     "data": {
      "text/plain": [
       "array([12, 12, 12, ...,  8, 12,  8], dtype=int64)"
      ]
     },
     "execution_count": 8,
     "metadata": {},
     "output_type": "execute_result"
    }
   ],
   "source": [
    "# farba stonky pod prstenom hriba - Stalk bellow ring\n",
    "train4 = np.where(dataSet.iloc[:,15]=='n',farba.iloc[0]['BROWN'],( # brown \n",
    "            np.where(dataSet.iloc[:,15]=='b',farba.iloc[0]['BUFF'],( # buff\n",
    "                np.where(dataSet.iloc[:,15]=='c',farba.iloc[0]['CINNAMON'],( # cinnamon\n",
    "                    np.where(dataSet.iloc[:,15]=='g',farba.iloc[0]['GRAY'],( # gray\n",
    "                        np.where(dataSet.iloc[:,15]=='o',farba.iloc[0]['ORANGE'],( # orange\n",
    "                            np.where(dataSet.iloc[:,15]=='p',farba.iloc[0]['PINK'],( # pink\n",
    "                                np.where(dataSet.iloc[:,15]=='e',farba.iloc[0]['RED'],( # red\n",
    "                                    np.where(dataSet.iloc[:,15]=='w',farba.iloc[0]['WHITE'],farba.iloc[0]['YELLOW']))))))))))))))) # white, 9 = yellow\n",
    "train4"
   ]
  },
  {
   "cell_type": "code",
   "execution_count": 9,
   "metadata": {},
   "outputs": [
    {
     "data": {
      "text/plain": [
       "array([12, 12, 12, ...,  8, 12,  8], dtype=int64)"
      ]
     },
     "execution_count": 9,
     "metadata": {},
     "output_type": "execute_result"
    }
   ],
   "source": [
    "# farba prstena hribu - Veil\n",
    "train5 = np.where(dataSet.iloc[:,17]=='n',farba.iloc[0]['BROWN'],( # brown  \n",
    "            np.where(dataSet.iloc[:,17]=='o',farba.iloc[0]['ORANGE'],( # orange \n",
    "                np.where(dataSet.iloc[:,17]=='w',farba.iloc[0]['WHITE'],farba.iloc[0]['YELLOW']))))) # white, 4 = yellow\n",
    "                   \n",
    "train5"
   ]
  },
  {
   "cell_type": "code",
   "execution_count": 10,
   "metadata": {},
   "outputs": [
    {
     "data": {
      "text/plain": [
       "array([ 1,  2,  2, ...,  3, 12,  8], dtype=int64)"
      ]
     },
     "execution_count": 10,
     "metadata": {},
     "output_type": "execute_result"
    }
   ],
   "source": [
    "# farba vytrusov hribu na papieri - Spore print\n",
    "train6 = np.where(dataSet.iloc[:,20]=='k',farba.iloc[0]['BLACK'],( # black   \n",
    "            np.where(dataSet.iloc[:,20]=='n',farba.iloc[0]['BROWN'],( # brown   \n",
    "                np.where(dataSet.iloc[:,20]=='b',farba.iloc[0]['BUFF'],( # buff   \n",
    "                    np.where(dataSet.iloc[:,20]=='h',farba.iloc[0]['CHOCOLATE'],( # chocolate  \n",
    "                        np.where(dataSet.iloc[:,20]=='r',farba.iloc[0]['GREEN'],( # green  \n",
    "                            np.where(dataSet.iloc[:,20]=='o',farba.iloc[0]['ORANGE'],( # orange   \n",
    "                                np.where(dataSet.iloc[:,20]=='u',farba.iloc[0]['PURPLE'],( # purple   \n",
    "                                    np.where(dataSet.iloc[:,20]=='w',farba.iloc[0]['WHITE'],farba.iloc[0]['YELLOW']))))))))))))))) # white, 9 = yellow \n",
    "                   \n",
    "train6"
   ]
  },
  {
   "cell_type": "code",
   "execution_count": 11,
   "metadata": {},
   "outputs": [
    {
     "data": {
      "text/plain": [
       "array([[ 2,  1,  8, 12, 12,  1],\n",
       "       [13,  1,  8, 12, 12,  2],\n",
       "       [12,  2,  8, 12, 12,  2],\n",
       "       ...,\n",
       "       [ 2,  2,  5,  8,  8,  3],\n",
       "       [ 2,  3,  8, 12, 12, 12],\n",
       "       [ 2, 13,  5,  8,  8,  8]], dtype=int64)"
      ]
     },
     "execution_count": 11,
     "metadata": {},
     "output_type": "execute_result"
    }
   ],
   "source": [
    "# Spojenie vsetkych mnozin do x\n",
    "# ziskali sme maticu s informaciami o farbach rôznych častiach každého hríbu\n",
    "x = np.stack((train1, train2, train3, train4, train5, train6), axis=1)\n",
    "x"
   ]
  },
  {
   "cell_type": "code",
   "execution_count": 12,
   "metadata": {},
   "outputs": [
    {
     "data": {
      "text/plain": [
       "array([ 2,  1,  8, 12, 12,  1], dtype=int64)"
      ]
     },
     "execution_count": 12,
     "metadata": {},
     "output_type": "execute_result"
    }
   ],
   "source": [
    "# jednotlive casti hribu su v X ulozene nasledovne\n",
    "# hlavicka, lupene, stonka nad prstenom , stonka pod prstenom, prsten, vytrusy na papieri \n",
    "# cislo v poli reprezentuje danu farbu\n",
    "\n",
    "# Priklad:\n",
    "#  HLAVICKA  |  LUPENE   | STONKA NAD P | STONKA POD P |   PRSTEN    |   VYTRUSY\n",
    "# 2 - BROWN  | 1 - BLACK | 8 - ORANGE   | 12 - WHITE   | 12 - WHITE  | 1 - BLACK\n",
    "x[0]"
   ]
  },
  {
   "cell_type": "code",
   "execution_count": 13,
   "metadata": {},
   "outputs": [
    {
     "data": {
      "text/html": [
       "<div>\n",
       "<style scoped>\n",
       "    .dataframe tbody tr th:only-of-type {\n",
       "        vertical-align: middle;\n",
       "    }\n",
       "\n",
       "    .dataframe tbody tr th {\n",
       "        vertical-align: top;\n",
       "    }\n",
       "\n",
       "    .dataframe thead th {\n",
       "        text-align: right;\n",
       "    }\n",
       "</style>\n",
       "<table border=\"1\" class=\"dataframe\">\n",
       "  <thead>\n",
       "    <tr style=\"text-align: right;\">\n",
       "      <th></th>\n",
       "      <th>BLACK</th>\n",
       "      <th>BROWN</th>\n",
       "      <th>BUFF</th>\n",
       "      <th>CHOCOLATE</th>\n",
       "      <th>CINNAMON</th>\n",
       "      <th>GRAY</th>\n",
       "      <th>GREEN</th>\n",
       "      <th>ORANGE</th>\n",
       "      <th>PINK</th>\n",
       "      <th>PURPLE</th>\n",
       "      <th>RED</th>\n",
       "      <th>WHITE</th>\n",
       "      <th>YELLOW</th>\n",
       "    </tr>\n",
       "  </thead>\n",
       "  <tbody>\n",
       "    <tr>\n",
       "      <th>0</th>\n",
       "      <td>1</td>\n",
       "      <td>2</td>\n",
       "      <td>3</td>\n",
       "      <td>4</td>\n",
       "      <td>5</td>\n",
       "      <td>6</td>\n",
       "      <td>7</td>\n",
       "      <td>8</td>\n",
       "      <td>9</td>\n",
       "      <td>10</td>\n",
       "      <td>11</td>\n",
       "      <td>12</td>\n",
       "      <td>13</td>\n",
       "    </tr>\n",
       "  </tbody>\n",
       "</table>\n",
       "</div>"
      ],
      "text/plain": [
       "   BLACK  BROWN  BUFF  CHOCOLATE  CINNAMON  GRAY  GREEN  ORANGE  PINK  PURPLE  \\\n",
       "0      1      2     3          4         5     6      7       8     9      10   \n",
       "\n",
       "   RED  WHITE  YELLOW  \n",
       "0   11     12      13  "
      ]
     },
     "execution_count": 13,
     "metadata": {},
     "output_type": "execute_result"
    }
   ],
   "source": [
    "farba # ukazka farieb"
   ]
  },
  {
   "cell_type": "code",
   "execution_count": 14,
   "metadata": {},
   "outputs": [],
   "source": [
    "# urcujeme ci je hrib jedlý alebo otrávený\n",
    "y = np.where((dataSet.iloc[:,0])=='e',1,0) # ak jedly, tak 1, ak jedovaty tak 0"
   ]
  },
  {
   "cell_type": "code",
   "execution_count": 15,
   "metadata": {},
   "outputs": [
    {
     "data": {
      "text/plain": [
       "array([0, 1, 1, ..., 1, 0, 1])"
      ]
     },
     "execution_count": 15,
     "metadata": {},
     "output_type": "execute_result"
    }
   ],
   "source": [
    "y"
   ]
  },
  {
   "cell_type": "code",
   "execution_count": 16,
   "metadata": {},
   "outputs": [
    {
     "name": "stderr",
     "output_type": "stream",
     "text": [
      "C:\\Users\\marek\\anaconda3\\lib\\site-packages\\seaborn\\_decorators.py:36: FutureWarning: Pass the following variable as a keyword arg: x. From version 0.12, the only valid positional argument will be `data`, and passing other arguments without an explicit keyword will result in an error or misinterpretation.\n",
      "  warnings.warn(\n"
     ]
    },
    {
     "data": {
      "text/plain": [
       "<AxesSubplot:ylabel='count'>"
      ]
     },
     "execution_count": 16,
     "metadata": {},
     "output_type": "execute_result"
    },
    {
     "data": {
      "image/png": "[encoded data removed]",
      "text/plain": [
       "<Figure size 432x288 with 1 Axes>"
      ]
     },
     "metadata": {
      "needs_background": "light"
     },
     "output_type": "display_data"
    }
   ],
   "source": [
    "# stlpec class bude urceny na predikciu  \n",
    "sns.countplot(dataSet.iloc[:,0].values.flatten())"
   ]
  },
  {
   "cell_type": "code",
   "execution_count": 17,
   "metadata": {},
   "outputs": [],
   "source": [
    "from sklearn.model_selection import train_test_split"
   ]
  },
  {
   "cell_type": "code",
   "execution_count": 18,
   "metadata": {},
   "outputs": [],
   "source": [
    "# rozdelenie dat na trenovacie a testovacie\n",
    "# test_size - pomer rozdelenia dat medzi trenovacou a testovacou mnozinou \n",
    "# random_state - vzdy bude generovat tie iste nahodne cisla\n",
    "trainX, testX, trainY, testY = train_test_split(x, y, random_state=33, test_size=0.2)"
   ]
  },
  {
   "cell_type": "code",
   "execution_count": 19,
   "metadata": {},
   "outputs": [],
   "source": [
    "from keras.utils import np_utils\n",
    "from keras.utils import to_categorical"
   ]
  },
  {
   "cell_type": "code",
   "execution_count": 20,
   "metadata": {},
   "outputs": [
    {
     "data": {
      "text/plain": [
       "array([[1., 0.],\n",
       "       [1., 0.],\n",
       "       [1., 0.],\n",
       "       ...,\n",
       "       [1., 0.],\n",
       "       [0., 1.],\n",
       "       [0., 1.]], dtype=float32)"
      ]
     },
     "execution_count": 20,
     "metadata": {},
     "output_type": "execute_result"
    }
   ],
   "source": [
    "# vytvorenie kategorickej premennej, nastavenie kategorie vsetkym typom hribom \n",
    "kategorickaPremenna = np_utils.to_categorical(trainY)\n",
    "kategorickaPremenna"
   ]
  },
  {
   "cell_type": "code",
   "execution_count": 21,
   "metadata": {},
   "outputs": [],
   "source": [
    "# potrebujeme model a vrstvy pre vypocty neuronovych sieti\n",
    "from keras.models import Sequential # sekvencny model\n",
    "from keras.layers import Dense # vrstvy - vstupna, skryta, vystupna"
   ]
  },
  {
   "cell_type": "code",
   "execution_count": 22,
   "metadata": {},
   "outputs": [
    {
     "name": "stdout",
     "output_type": "stream",
     "text": [
      "Epoch 1/20\n",
      "130/130 [==============================] - 0s 550us/step - loss: 0.3376 - accuracy: 0.5008\n",
      "Epoch 2/20\n",
      "130/130 [==============================] - 0s 535us/step - loss: 0.1803 - accuracy: 0.7897\n",
      "Epoch 3/20\n",
      "130/130 [==============================] - 0s 543us/step - loss: 0.1389 - accuracy: 0.8146\n",
      "Epoch 4/20\n",
      "130/130 [==============================] - 0s 535us/step - loss: 0.1201 - accuracy: 0.8601\n",
      "Epoch 5/20\n",
      "130/130 [==============================] - 0s 527us/step - loss: 0.1124 - accuracy: 0.8723\n",
      "Epoch 6/20\n",
      "130/130 [==============================] - 0s 535us/step - loss: 0.0993 - accuracy: 0.8916\n",
      "Epoch 7/20\n",
      "130/130 [==============================] - 0s 558us/step - loss: 0.0922 - accuracy: 0.8988\n",
      "Epoch 8/20\n",
      "130/130 [==============================] - 0s 550us/step - loss: 0.0836 - accuracy: 0.9089\n",
      "Epoch 9/20\n",
      "130/130 [==============================] - 0s 519us/step - loss: 0.0814 - accuracy: 0.9138\n",
      "Epoch 10/20\n",
      "130/130 [==============================] - 0s 527us/step - loss: 0.0794 - accuracy: 0.9183\n",
      "Epoch 11/20\n",
      "130/130 [==============================] - 0s 527us/step - loss: 0.0825 - accuracy: 0.9160\n",
      "Epoch 12/20\n",
      "130/130 [==============================] - 0s 543us/step - loss: 0.0813 - accuracy: 0.9147\n",
      "Epoch 13/20\n",
      "130/130 [==============================] - 0s 535us/step - loss: 0.0800 - accuracy: 0.9173\n",
      "Epoch 14/20\n",
      "130/130 [==============================] - 0s 535us/step - loss: 0.0763 - accuracy: 0.9212\n",
      "Epoch 15/20\n",
      "130/130 [==============================] - 0s 527us/step - loss: 0.0721 - accuracy: 0.9268\n",
      "Epoch 16/20\n",
      "130/130 [==============================] - 0s 512us/step - loss: 0.0739 - accuracy: 0.9248\n",
      "Epoch 17/20\n",
      "130/130 [==============================] - 0s 543us/step - loss: 0.0711 - accuracy: 0.9301\n",
      "Epoch 18/20\n",
      "130/130 [==============================] - 0s 535us/step - loss: 0.0759 - accuracy: 0.9196\n",
      "Epoch 19/20\n",
      "130/130 [==============================] - 0s 527us/step - loss: 0.0764 - accuracy: 0.9213\n",
      "Epoch 20/20\n",
      "130/130 [==============================] - 0s 527us/step - loss: 0.0673 - accuracy: 0.9304\n"
     ]
    }
   ],
   "source": [
    "KerasModel = Sequential()\n",
    "# vstupna vrstva bude s 30 neuronmi\n",
    "# input_dim pocet dimenzii (vrstiev) - 6 stlpcov vstupuju\n",
    "KerasModel.add(Dense(30, input_dim = 6, activation='softplus'))\n",
    "\n",
    "# skryta vrstva s 4 neuronmi \n",
    "KerasModel.add(Dense(4, activation='softplus'))\n",
    "\n",
    "# vystupna vrstva ma dve neurony lebo kategoricka premenna ma dve hodnoty \n",
    "KerasModel.add(Dense(2, activation=\"softplus\"))\n",
    "# model je pripraveny treba ho natrenovat\n",
    "\n",
    "# pred trenovanim ho treba skompilovat\n",
    "# param strata - loss -> metoda najmensich stvorcov\n",
    "# optimizer - na zaklade coho sa ma optimalizovat (adam byva najlepsi)\n",
    "# metrics - pridanie presnosti k vysledku\n",
    "KerasModel.compile(loss='mean_squared_error', optimizer='adam', metrics=['accuracy'])\n",
    "\n",
    "\n",
    "# trenovanie parametrom trainX a trainY\n",
    "model = KerasModel.fit(trainX, kategorickaPremenna, epochs=20, batch_size=50)"
   ]
  },
  {
   "cell_type": "code",
   "execution_count": 23,
   "metadata": {},
   "outputs": [
    {
     "data": {
      "image/png": "[encoded data removed]",
      "text/plain": [
       "<Figure size 432x288 with 1 Axes>"
      ]
     },
     "metadata": {
      "needs_background": "light"
     },
     "output_type": "display_data"
    },
    {
     "data": {
      "image/png": "[encoded data removed]",
      "text/plain": [
       "<Figure size 432x288 with 1 Axes>"
      ]
     },
     "metadata": {
      "needs_background": "light"
     },
     "output_type": "display_data"
    }
   ],
   "source": [
    "import matplotlib.pyplot as plt\n",
    "\n",
    "# Sledovanie presnosti vypoctu\n",
    "plt.plot(model.history['accuracy'])\n",
    "plt.title('Accuracy')\n",
    "plt.ylabel('accuracy')\n",
    "plt.xlabel('epoch')\n",
    "plt.show()\n",
    "\n",
    "# sledovanie straty\n",
    "plt.plot(model.history['loss'])\n",
    "plt.title('Loss')\n",
    "plt.ylabel('loss')\n",
    "plt.xlabel('epoch')\n",
    "plt.show()"
   ]
  },
  {
   "cell_type": "code",
   "execution_count": 24,
   "metadata": {},
   "outputs": [
    {
     "name": "stdout",
     "output_type": "stream",
     "text": [
      "51/51 [==============================] - 0s 420us/step - loss: 0.0686 - accuracy: 0.9305\n",
      "\n",
      "Accuracy: 93.05%\n"
     ]
    }
   ],
   "source": [
    "# Evaluacia siete\n",
    "encoding_test_y = np_utils.to_categorical(testY)\n",
    "\n",
    "scores = KerasModel.evaluate(testX, encoding_test_y)\n",
    "print(\"\\nAccuracy: %.2f%%\" % (scores[1]*100))"
   ]
  },
  {
   "cell_type": "code",
   "execution_count": 25,
   "metadata": {},
   "outputs": [
    {
     "data": {
      "text/plain": [
       "array([1, 1, 1, ..., 1, 0, 1])"
      ]
     },
     "execution_count": 25,
     "metadata": {},
     "output_type": "execute_result"
    }
   ],
   "source": [
    "# Testovacia mnozina\n",
    "testY"
   ]
  },
  {
   "cell_type": "code",
   "execution_count": 26,
   "metadata": {},
   "outputs": [
    {
     "data": {
      "text/plain": [
       "array([[0.06981257, 0.8680803 ],\n",
       "       [0.08026931, 0.84388745],\n",
       "       [0.20336327, 0.74533707],\n",
       "       ...,\n",
       "       [0.06947754, 0.9604073 ],\n",
       "       [0.03538835, 0.9088741 ],\n",
       "       [0.19046439, 0.74041486]], dtype=float32)"
      ]
     },
     "execution_count": 26,
     "metadata": {},
     "output_type": "execute_result"
    }
   ],
   "source": [
    "# Predikcia testovacej mnoziny \n",
    "predikovane = KerasModel.predict(testX)\n",
    "predikovane"
   ]
  },
  {
   "cell_type": "code",
   "execution_count": 27,
   "metadata": {},
   "outputs": [
    {
     "data": {
      "text/html": [
       "<div>\n",
       "<style scoped>\n",
       "    .dataframe tbody tr th:only-of-type {\n",
       "        vertical-align: middle;\n",
       "    }\n",
       "\n",
       "    .dataframe tbody tr th {\n",
       "        vertical-align: top;\n",
       "    }\n",
       "\n",
       "    .dataframe thead th {\n",
       "        text-align: right;\n",
       "    }\n",
       "</style>\n",
       "<table border=\"1\" class=\"dataframe\">\n",
       "  <thead>\n",
       "    <tr style=\"text-align: right;\">\n",
       "      <th></th>\n",
       "      <th>Predikcia</th>\n",
       "      <th>Realna hodnota</th>\n",
       "    </tr>\n",
       "  </thead>\n",
       "  <tbody>\n",
       "    <tr>\n",
       "      <th>0</th>\n",
       "      <td>1</td>\n",
       "      <td>1</td>\n",
       "    </tr>\n",
       "    <tr>\n",
       "      <th>1</th>\n",
       "      <td>1</td>\n",
       "      <td>1</td>\n",
       "    </tr>\n",
       "    <tr>\n",
       "      <th>2</th>\n",
       "      <td>1</td>\n",
       "      <td>1</td>\n",
       "    </tr>\n",
       "    <tr>\n",
       "      <th>3</th>\n",
       "      <td>1</td>\n",
       "      <td>1</td>\n",
       "    </tr>\n",
       "    <tr>\n",
       "      <th>4</th>\n",
       "      <td>1</td>\n",
       "      <td>1</td>\n",
       "    </tr>\n",
       "    <tr>\n",
       "      <th>...</th>\n",
       "      <td>...</td>\n",
       "      <td>...</td>\n",
       "    </tr>\n",
       "    <tr>\n",
       "      <th>1620</th>\n",
       "      <td>1</td>\n",
       "      <td>1</td>\n",
       "    </tr>\n",
       "    <tr>\n",
       "      <th>1621</th>\n",
       "      <td>0</td>\n",
       "      <td>0</td>\n",
       "    </tr>\n",
       "    <tr>\n",
       "      <th>1622</th>\n",
       "      <td>1</td>\n",
       "      <td>1</td>\n",
       "    </tr>\n",
       "    <tr>\n",
       "      <th>1623</th>\n",
       "      <td>1</td>\n",
       "      <td>0</td>\n",
       "    </tr>\n",
       "    <tr>\n",
       "      <th>1624</th>\n",
       "      <td>1</td>\n",
       "      <td>1</td>\n",
       "    </tr>\n",
       "  </tbody>\n",
       "</table>\n",
       "<p>1625 rows × 2 columns</p>\n",
       "</div>"
      ],
      "text/plain": [
       "      Predikcia  Realna hodnota\n",
       "0             1               1\n",
       "1             1               1\n",
       "2             1               1\n",
       "3             1               1\n",
       "4             1               1\n",
       "...         ...             ...\n",
       "1620          1               1\n",
       "1621          0               0\n",
       "1622          1               1\n",
       "1623          1               0\n",
       "1624          1               1\n",
       "\n",
       "[1625 rows x 2 columns]"
      ]
     },
     "execution_count": 27,
     "metadata": {},
     "output_type": "execute_result"
    }
   ],
   "source": [
    "# Porovnanie skutocnych hodnot s predikciou\n",
    "predikovane = KerasModel.predict(testX)\n",
    "\n",
    "predikovane_Y = []\n",
    "\n",
    "for j in predikovane:\n",
    "    predikovane_Y.append(np.argmax(j))\n",
    "    \n",
    "# Zobrazenie do tabulky\n",
    "tabulka = pd.DataFrame()\n",
    "tabulka['Predikcia'] = predikovane_Y\n",
    "tabulka['Realna hodnota'] = testY\n",
    "\n",
    "tabulka"
   ]
  },
  {
   "cell_type": "code",
   "execution_count": 29,
   "metadata": {},
   "outputs": [],
   "source": [
    "from sklearn.metrics import classification_report, confusion_matrix, plot_confusion_matrix"
   ]
  },
  {
   "cell_type": "code",
   "execution_count": 30,
   "metadata": {},
   "outputs": [
    {
     "data": {
      "text/plain": [
       "array([[703,  91],\n",
       "       [ 22, 809]], dtype=int64)"
      ]
     },
     "execution_count": 30,
     "metadata": {},
     "output_type": "execute_result"
    }
   ],
   "source": [
    "# zobrazenie skutocnych a predikovanych hodnot cez maticu\n",
    "cm = confusion_matrix(y_pred = predikovane_Y, y_true = testY)\n",
    "cm"
   ]
  },
  {
   "cell_type": "code",
   "execution_count": 31,
   "metadata": {},
   "outputs": [
    {
     "data": {
      "text/plain": [
       "<AxesSubplot:>"
      ]
     },
     "execution_count": 31,
     "metadata": {},
     "output_type": "execute_result"
    },
    {
     "data": {
      "image/png": "[encoded data removed]",
      "text/plain": [
       "<Figure size 432x288 with 2 Axes>"
      ]
     },
     "metadata": {
      "needs_background": "light"
     },
     "output_type": "display_data"
    }
   ],
   "source": [
    "cm = confusion_matrix(y_pred = predikovane_Y, y_true = testY)\n",
    "sns.heatmap(cm, annot=True, fmt=\"d\", cmap=\"YlGnBu\")"
   ]
  },
  {
   "cell_type": "code",
   "execution_count": 32,
   "metadata": {},
   "outputs": [],
   "source": [
    "# Mozeme vidiet na grafe, ze nasa natrenovana siet nam s 93.05% presnostou urcila druh hribu\n",
    "# 703 hribov zaradila spravne do kategorie jedovatych a 91 zaradila nespravne do jedlych\n",
    "# 809 hribov zaradila spravne do kategorie jedlych a 22 zaradila nespravne do jedovatych"
   ]
  },
  {
   "cell_type": "code",
   "execution_count": null,
   "metadata": {},
   "outputs": [],
   "source": []
  }
 ],
 "metadata": {
  "kernelspec": {
   "display_name": "Python 3",
   "language": "python",
   "name": "python3"
  },
  "language_info": {
   "codemirror_mode": {
    "name": "ipython",
    "version": 3
   },
   "file_extension": ".py",
   "mimetype": "text/x-python",
   "name": "python",
   "nbconvert_exporter": "python",
   "pygments_lexer": "ipython3",
   "version": "3.8.5"
  }
 },
 "nbformat": 4,
 "nbformat_minor": 4
}
